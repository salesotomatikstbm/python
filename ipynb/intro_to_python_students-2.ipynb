{
 "cells": [
  {
   "cell_type": "markdown",
   "metadata": {},
   "source": [
    "# Introduction\n",
    "\n",
    "Welcome to this beginner Python programming notebook! You will learn the basics of printing messages, working with variables, and understanding data types in Python. This is suitable for students from grade 6 to 10, and is designed to be easy and fun.\n",
    "\n",
    "Let's get started!"
   ]
  },
  {
   "cell_type": "markdown",
   "metadata": {},
   "source": [
    
    "---",
    
   ]
  },
  {
   "cell_type": "code",
   "execution_count": 1,
   "metadata": {},
   "outputs": [
    {
     "name": "stdout",
     "output_type": "stream",
     "text": [
      "Hello, World!\n"
     ]
    }
   ],
   "source": [
    "# Our First Program\n",
    "print(\"Hello, World!\")"
   ]
  },
  {
   "cell_type": "markdown",
   "metadata": {},
   "source": [
    "This is how we display a message on the screen in Python using the `print` function. The text inside the quotes appears as the output."
   ]
  },
  {
   "cell_type": "markdown",
   "metadata": {},
   "source": [
    
    "---",
    
   ]
  },
  {
   "cell_type": "code",
   "execution_count": 2,
   "metadata": {},
   "outputs": [
    {
     "name": "stdout",
     "output_type": "stream",
     "text": [
      "Ashok\n",
      "ABC School\n",
      "Grade 3: Section C\n",
      "8\n"
     ]
    }
   ],
   "source": [
    "# Second Program: Variables\n",
    "\n",
    "name = \"Ashok\"\n",
    "school = \"ABC School\"\n",
    "age = 8\n",
    "student_class = \"Grade 3: Section C\"\n",
    "\n",
    "print(name)\n",
    "print(school)\n",
    "print(student_class)\n",
    "print(age)"
   ]
  },
  {
   "cell_type": "markdown",
   "metadata": {},
   "source": [
    "Here we created variables to store information about a student, such as their name, school, age, and class section. We then use the `print` function to display each piece of information."
   ]
  },
  {
   "cell_type": "markdown",
   "metadata": {},
   "source": [
    
    "---",
    
   ]
  },
  {
   "cell_type": "code",
   "execution_count": 3,
   "metadata": {},
   "outputs": [
    {
     "name": "stdout",
     "output_type": "stream",
     "text": [
      "Student name: Ashok\n",
      "School: ABC School\n",
      "Class: Grade 3: Section C\n",
      "Age: 8\n"
     ]
    }
   ],
   "source": [
    "# Third Program: Print with Concatenation\n",
    "\n",
    "print(\"Student name: \" + name)\n",
    "print(\"School: \" + school)\n",
    "print(\"Class: \" + student_class)\n",
    "print(\"Age: \" + str(age))"
   ]
  },
  {
   "cell_type": "markdown",
   "metadata": {},
   "source": [
    "In this program, we used the plus (`+`) sign to join (concatenate) strings together. Notice that we used `str(age)`, which converts the number to a string so it can be joined with the other words."
   ]
  },
  {
   "cell_type": "markdown",
   "metadata": {},
   "source": [
    
    "---",
    
   ]
  },
  {
   "cell_type": "code",
   "execution_count": 4,
   "metadata": {},
   "outputs": [
    {
     "name": "stdout",
     "output_type": "stream",
     "text": [
      "My name is Ashok. I study in ABC School. I am in Grade 3: Section C and I am 8 years old.\n"
     ]
    }
   ],
   "source": [
    "# Fourth Program: Print with Replacement (Using f-strings)\n",
    "\n",
    "print(f\"My name is {name}. I study in {school}. I am in {student_class} and I am {age} years old.\")"
   ]
  },
  {
   "cell_type": "markdown",
   "metadata": {},
   "source": [
    "Here, we used an **f-string** to insert the values of our variables directly into the sentence. Placing an 'f' before the quotes allows us to use curly braces `{}` to include variables right inside the string."
   ]
  },
  {
   "cell_type": "markdown",
   "metadata": {},
   "source": [
    "---\n"
   ]
  },
  {
   "cell_type": "code",
   "execution_count": 5,
   "metadata": {},
   "outputs": [
    {
     "name": "stdout",
     "output_type": "stream",
     "text": [
      "<class 'str'>\n",
      "<class 'str'>\n",
      "<class 'str'>\n",
      "<class 'int'>\n"
     ]
    }
   ],
   "source": [
    "# Fifth Program: Print variable types\n",
    "\n",
    "print(type(name))          # Type of name\n",
    "print(type(school))        # Type of school\n",
    "print(type(student_class)) # Type of class\n",
    "print(type(age))           # Type of age"
   ]
  },
  {
   "cell_type": "markdown",
   "metadata": {},
   "source": [
    "The `type()` function in Python tells us the type of data a variable holds. For example, `name` and `school` are of type `'str'` (string), and `age` is of type `'int'` (integer)."
   ]
  },
  {
   "cell_type": "markdown",
   "metadata": {},
   "source": [
    "\n",
    "---\n"
   ]
  },
  {
   "cell_type": "markdown",
   "metadata": {},
   "source": [
    "## About Me\n",
    "\n",
    "Let's introduce myself using print statements in Python!"
   ]
  },
  {
   "cell_type": "code",
   "execution_count": 6,
   "metadata": {},
   "outputs": [
    {
     "name": "stdout",
     "output_type": "stream",
     "text": [
      "My name is Ashok\n",
      "My age is 35\n",
      "I am a software architect with 15 years of experience\n",
      "I like programming languages\n",
      "I love teaching\n"
     ]
    }
   ],
   "source": [
    "print(\"My name is Ashok\")\n",
    "print(\"My age is 35\")\n",
    "print(\"I am a software architect with 15 years of experience\")\n",
    "print(\"I like programming languages\")\n",
    "print(\"I love teaching\")"
   ]
  }
 ],
 "metadata": {
  "kernelspec": {
   "display_name": "Python 3",
   "language": "python",
   "name": "python3"
  },
  "language_info": {
   "codemirror_mode": {
    "name": "ipython",
    "version": 3
   },
   "file_extension": ".py",
   "mimetype": "text/x-python",
   "name": "python",
   "nbconvert_exporter": "python",
   "pygments_lexer": "ipython3",
   "version": "3.13.1"
  }
 },
 "nbformat": 4,
 "nbformat_minor": 5
}
